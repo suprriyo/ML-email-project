{
 "cells": [
  {
   "cell_type": "code",
   "execution_count": null,
   "id": "acc1e562",
   "metadata": {},
   "outputs": [],
   "source": [
    "\n",
    "import pandas as pd\n",
    "import seaborn as sns\n",
    "import matplotlib.pyplot as plt"
   ]
  },
  {
   "cell_type": "code",
   "execution_count": 2,
   "id": "c1c188ec",
   "metadata": {},
   "outputs": [],
   "source": [
    "email_opened = pd.read_csv(r\"email_opened_table.csv\")"
   ]
  },
  {
   "cell_type": "code",
   "execution_count": 3,
   "id": "2356eb07",
   "metadata": {},
   "outputs": [
    {
     "data": {
      "text/html": [
       "<div>\n",
       "<style scoped>\n",
       "    .dataframe tbody tr th:only-of-type {\n",
       "        vertical-align: middle;\n",
       "    }\n",
       "\n",
       "    .dataframe tbody tr th {\n",
       "        vertical-align: top;\n",
       "    }\n",
       "\n",
       "    .dataframe thead th {\n",
       "        text-align: right;\n",
       "    }\n",
       "</style>\n",
       "<table border=\"1\" class=\"dataframe\">\n",
       "  <thead>\n",
       "    <tr style=\"text-align: right;\">\n",
       "      <th></th>\n",
       "      <th>email_id</th>\n",
       "    </tr>\n",
       "  </thead>\n",
       "  <tbody>\n",
       "    <tr>\n",
       "      <th>0</th>\n",
       "      <td>284534</td>\n",
       "    </tr>\n",
       "    <tr>\n",
       "      <th>1</th>\n",
       "      <td>609056</td>\n",
       "    </tr>\n",
       "    <tr>\n",
       "      <th>2</th>\n",
       "      <td>220820</td>\n",
       "    </tr>\n",
       "    <tr>\n",
       "      <th>3</th>\n",
       "      <td>905936</td>\n",
       "    </tr>\n",
       "    <tr>\n",
       "      <th>4</th>\n",
       "      <td>164034</td>\n",
       "    </tr>\n",
       "  </tbody>\n",
       "</table>\n",
       "</div>"
      ],
      "text/plain": [
       "   email_id\n",
       "0    284534\n",
       "1    609056\n",
       "2    220820\n",
       "3    905936\n",
       "4    164034"
      ]
     },
     "execution_count": 3,
     "metadata": {},
     "output_type": "execute_result"
    }
   ],
   "source": [
    "email_opened.head()"
   ]
  },
  {
   "cell_type": "code",
   "execution_count": 4,
   "id": "783856da",
   "metadata": {},
   "outputs": [],
   "source": [
    "email = pd.read_csv(r\"email_table.csv\")"
   ]
  },
  {
   "cell_type": "code",
   "execution_count": 5,
   "id": "d98bbe82",
   "metadata": {},
   "outputs": [
    {
     "data": {
      "text/html": [
       "<div>\n",
       "<style scoped>\n",
       "    .dataframe tbody tr th:only-of-type {\n",
       "        vertical-align: middle;\n",
       "    }\n",
       "\n",
       "    .dataframe tbody tr th {\n",
       "        vertical-align: top;\n",
       "    }\n",
       "\n",
       "    .dataframe thead th {\n",
       "        text-align: right;\n",
       "    }\n",
       "</style>\n",
       "<table border=\"1\" class=\"dataframe\">\n",
       "  <thead>\n",
       "    <tr style=\"text-align: right;\">\n",
       "      <th></th>\n",
       "      <th>email_id</th>\n",
       "      <th>email_text</th>\n",
       "      <th>email_version</th>\n",
       "      <th>hour</th>\n",
       "      <th>weekday</th>\n",
       "      <th>user_country</th>\n",
       "      <th>user_past_purchases</th>\n",
       "    </tr>\n",
       "  </thead>\n",
       "  <tbody>\n",
       "    <tr>\n",
       "      <th>0</th>\n",
       "      <td>85120</td>\n",
       "      <td>short_email</td>\n",
       "      <td>personalized</td>\n",
       "      <td>2</td>\n",
       "      <td>Sunday</td>\n",
       "      <td>US</td>\n",
       "      <td>5</td>\n",
       "    </tr>\n",
       "    <tr>\n",
       "      <th>1</th>\n",
       "      <td>966622</td>\n",
       "      <td>long_email</td>\n",
       "      <td>personalized</td>\n",
       "      <td>12</td>\n",
       "      <td>Sunday</td>\n",
       "      <td>UK</td>\n",
       "      <td>2</td>\n",
       "    </tr>\n",
       "    <tr>\n",
       "      <th>2</th>\n",
       "      <td>777221</td>\n",
       "      <td>long_email</td>\n",
       "      <td>personalized</td>\n",
       "      <td>11</td>\n",
       "      <td>Wednesday</td>\n",
       "      <td>US</td>\n",
       "      <td>2</td>\n",
       "    </tr>\n",
       "    <tr>\n",
       "      <th>3</th>\n",
       "      <td>493711</td>\n",
       "      <td>short_email</td>\n",
       "      <td>generic</td>\n",
       "      <td>6</td>\n",
       "      <td>Monday</td>\n",
       "      <td>UK</td>\n",
       "      <td>1</td>\n",
       "    </tr>\n",
       "    <tr>\n",
       "      <th>4</th>\n",
       "      <td>106887</td>\n",
       "      <td>long_email</td>\n",
       "      <td>generic</td>\n",
       "      <td>14</td>\n",
       "      <td>Monday</td>\n",
       "      <td>US</td>\n",
       "      <td>6</td>\n",
       "    </tr>\n",
       "  </tbody>\n",
       "</table>\n",
       "</div>"
      ],
      "text/plain": [
       "   email_id   email_text email_version  hour    weekday user_country  \\\n",
       "0     85120  short_email  personalized     2     Sunday           US   \n",
       "1    966622   long_email  personalized    12     Sunday           UK   \n",
       "2    777221   long_email  personalized    11  Wednesday           US   \n",
       "3    493711  short_email       generic     6     Monday           UK   \n",
       "4    106887   long_email       generic    14     Monday           US   \n",
       "\n",
       "   user_past_purchases  \n",
       "0                    5  \n",
       "1                    2  \n",
       "2                    2  \n",
       "3                    1  \n",
       "4                    6  "
      ]
     },
     "execution_count": 5,
     "metadata": {},
     "output_type": "execute_result"
    }
   ],
   "source": [
    "email.head()"
   ]
  },
  {
   "cell_type": "code",
   "execution_count": 6,
   "id": "590958b1",
   "metadata": {},
   "outputs": [
    {
     "data": {
      "text/plain": [
       "(100000, 7)"
      ]
     },
     "execution_count": 6,
     "metadata": {},
     "output_type": "execute_result"
    }
   ],
   "source": [
    "email.shape"
   ]
  },
  {
   "cell_type": "code",
   "execution_count": 7,
   "id": "f90704e5",
   "metadata": {},
   "outputs": [
    {
     "name": "stdout",
     "output_type": "stream",
     "text": [
      "4\n",
      "['US' 'UK' 'FR' 'ES']\n",
      "user_country\n",
      "US    60099\n",
      "UK    19939\n",
      "FR     9995\n",
      "ES     9967\n",
      "Name: count, dtype: int64\n"
     ]
    }
   ],
   "source": [
    "print(email['user_country'].nunique())\n",
    "print(email['user_country'].unique())\n",
    "print(email['user_country'].value_counts())\n",
    "\n",
    "\n"
   ]
  },
  {
   "cell_type": "code",
   "execution_count": 8,
   "id": "3c50a928",
   "metadata": {},
   "outputs": [
    {
     "name": "stderr",
     "output_type": "stream",
     "text": [
      "C:\\Users\\91863\\AppData\\Local\\Temp\\ipykernel_20368\\249070487.py:2: FutureWarning: \n",
      "\n",
      "Passing `palette` without assigning `hue` is deprecated and will be removed in v0.14.0. Assign the `x` variable to `hue` and set `legend=False` for the same effect.\n",
      "\n",
      "  sns.countplot(data=email, x='user_country', palette='Set2')\n"
     ]
    },
    {
     "data": {
      "image/png": "[encoded data removed]",
      "text/plain": [
       "<Figure size 500x300 with 1 Axes>"
      ]
     },
     "metadata": {},
     "output_type": "display_data"
    }
   ],
   "source": [
    "plt.figure(figsize=(5, 3))\n",
    "sns.countplot(data=email, x='user_country', palette='Set2')\n",
    "\n",
    "\n",
    "plt.title('Email Distribution by Country', fontsize=14)\n",
    "plt.xlabel('Country', fontsize=12)\n",
    "plt.ylabel('Number of Emails Sent', fontsize=12)\n",
    "plt.show()"
   ]
  },
  {
   "cell_type": "code",
   "execution_count": 9,
   "id": "b822e63c",
   "metadata": {},
   "outputs": [
    {
     "name": "stdout",
     "output_type": "stream",
     "text": [
      "email_text\n",
      "long_email     50276\n",
      "short_email    49724\n",
      "Name: count, dtype: int64\n"
     ]
    }
   ],
   "source": [
    "print(email['email_text'].value_counts())\n"
   ]
  },
  {
   "cell_type": "code",
   "execution_count": 10,
   "id": "b9129744",
   "metadata": {},
   "outputs": [
    {
     "name": "stdout",
     "output_type": "stream",
     "text": [
      "email_version\n",
      "generic         50209\n",
      "personalized    49791\n",
      "Name: count, dtype: int64\n"
     ]
    }
   ],
   "source": [
    "print(email['email_version'].value_counts())\n"
   ]
  },
  {
   "cell_type": "code",
   "execution_count": 11,
   "id": "b85d98af",
   "metadata": {},
   "outputs": [
    {
     "name": "stdout",
     "output_type": "stream",
     "text": [
      "hour\n",
      "9     8529\n",
      "8     8398\n",
      "7     8204\n",
      "10    8180\n",
      "11    7483\n",
      "6     7465\n",
      "5     6551\n",
      "12    6508\n",
      "4     5622\n",
      "13    5581\n",
      "3     4610\n",
      "14    4580\n",
      "2     3676\n",
      "15    3493\n",
      "16    2759\n",
      "1     2703\n",
      "17    1893\n",
      "18    1421\n",
      "19     905\n",
      "20     656\n",
      "21     365\n",
      "22     204\n",
      "23     145\n",
      "24      69\n",
      "Name: count, dtype: int64\n"
     ]
    }
   ],
   "source": [
    "print(email['hour'].value_counts())"
   ]
  },
  {
   "cell_type": "code",
   "execution_count": 12,
   "id": "2e1daf28",
   "metadata": {},
   "outputs": [
    {
     "name": "stdout",
     "output_type": "stream",
     "text": [
      "weekday\n",
      "Saturday     14569\n",
      "Sunday       14387\n",
      "Monday       14363\n",
      "Thursday     14277\n",
      "Friday       14177\n",
      "Tuesday      14143\n",
      "Wednesday    14084\n",
      "Name: count, dtype: int64\n"
     ]
    }
   ],
   "source": [
    "print(email['weekday'].value_counts())"
   ]
  },
  {
   "cell_type": "code",
   "execution_count": null,
   "id": "e01775f4",
   "metadata": {},
   "outputs": [],
   "source": []
  },
  {
   "cell_type": "code",
   "execution_count": 13,
   "id": "3e09c9fe",
   "metadata": {},
   "outputs": [],
   "source": [
    "clicked_email= pd.read_csv(r\"link_clicked_table.csv\")"
   ]
  },
  {
   "cell_type": "code",
   "execution_count": 14,
   "id": "e432fed9",
   "metadata": {},
   "outputs": [
    {
     "data": {
      "text/html": [
       "<div>\n",
       "<style scoped>\n",
       "    .dataframe tbody tr th:only-of-type {\n",
       "        vertical-align: middle;\n",
       "    }\n",
       "\n",
       "    .dataframe tbody tr th {\n",
       "        vertical-align: top;\n",
       "    }\n",
       "\n",
       "    .dataframe thead th {\n",
       "        text-align: right;\n",
       "    }\n",
       "</style>\n",
       "<table border=\"1\" class=\"dataframe\">\n",
       "  <thead>\n",
       "    <tr style=\"text-align: right;\">\n",
       "      <th></th>\n",
       "      <th>email_id</th>\n",
       "    </tr>\n",
       "  </thead>\n",
       "  <tbody>\n",
       "    <tr>\n",
       "      <th>0</th>\n",
       "      <td>609056</td>\n",
       "    </tr>\n",
       "    <tr>\n",
       "      <th>1</th>\n",
       "      <td>870980</td>\n",
       "    </tr>\n",
       "    <tr>\n",
       "      <th>2</th>\n",
       "      <td>935124</td>\n",
       "    </tr>\n",
       "    <tr>\n",
       "      <th>3</th>\n",
       "      <td>158501</td>\n",
       "    </tr>\n",
       "    <tr>\n",
       "      <th>4</th>\n",
       "      <td>177561</td>\n",
       "    </tr>\n",
       "  </tbody>\n",
       "</table>\n",
       "</div>"
      ],
      "text/plain": [
       "   email_id\n",
       "0    609056\n",
       "1    870980\n",
       "2    935124\n",
       "3    158501\n",
       "4    177561"
      ]
     },
     "execution_count": 14,
     "metadata": {},
     "output_type": "execute_result"
    }
   ],
   "source": [
    "clicked_email.head()"
   ]
  },
  {
   "cell_type": "code",
   "execution_count": 15,
   "id": "3f8d7d15",
   "metadata": {},
   "outputs": [],
   "source": [
    "total_emails = email.shape[0]"
   ]
  },
  {
   "cell_type": "code",
   "execution_count": 16,
   "id": "70c0f305",
   "metadata": {},
   "outputs": [],
   "source": [
    "opened_emails = email_opened.shape[0]"
   ]
  },
  {
   "cell_type": "code",
   "execution_count": 17,
   "id": "37982798",
   "metadata": {},
   "outputs": [],
   "source": [
    "clicked_emails = clicked_email.shape[0]"
   ]
  },
  {
   "cell_type": "code",
   "execution_count": 18,
   "id": "9ea14796",
   "metadata": {},
   "outputs": [
    {
     "name": "stdout",
     "output_type": "stream",
     "text": [
      "Open Rate: 10.35%\n",
      "Click Rate: 2.12%\n"
     ]
    }
   ],
   "source": [
    "open_rate = (opened_emails / total_emails) * 100\n",
    "click_rate = (clicked_emails / total_emails) * 100\n",
    "\n",
    "print(f\"Open Rate: {open_rate:.2f}%\")\n",
    "print(f\"Click Rate: {click_rate:.2f}%\")"
   ]
  },
  {
   "cell_type": "code",
   "execution_count": 19,
   "id": "f02533cd",
   "metadata": {},
   "outputs": [
    {
     "name": "stderr",
     "output_type": "stream",
     "text": [
      "C:\\Users\\91863\\AppData\\Local\\Temp\\ipykernel_20368\\3873781322.py:12: FutureWarning: \n",
      "\n",
      "Passing `palette` without assigning `hue` is deprecated and will be removed in v0.14.0. Assign the `x` variable to `hue` and set `legend=False` for the same effect.\n",
      "\n",
      "  sns.barplot(x=metrics, y=values, palette=\"Blues_d\")\n"
     ]
    },
    {
     "data": {
      "image/png": "[encoded data removed]",
      "text/plain": [
       "<Figure size 500x500 with 1 Axes>"
      ]
     },
     "metadata": {},
     "output_type": "display_data"
    }
   ],
   "source": [
    "\n",
    "total_sent = email.shape[0]\n",
    "total_opened = email_opened.shape[0]\n",
    "total_clicked = clicked_email.shape[0]\n",
    "\n",
    "\n",
    "metrics = ['Open Rate', 'Click Rate']\n",
    "values = [total_opened / total_sent * 100, total_clicked / total_sent * 100]\n",
    "\n",
    "\n",
    "sns.set(style=\"whitegrid\")\n",
    "plt.figure(figsize=(5, 5))\n",
    "sns.barplot(x=metrics, y=values, palette=\"Blues_d\")\n",
    "\n",
    "for i, v in enumerate(values):\n",
    "    plt.text(i, v + 1, f\"{v:.2f}%\", ha='center', fontweight='bold')\n",
    "\n",
    "plt.ylim(0, max(values) + 10)\n",
    "plt.title(\"Email Campaign Performance\", fontsize=16)\n",
    "plt.ylabel(\"Percentage (%)\")\n",
    "plt.xlabel(\"Metric\")\n",
    "plt.show()\n"
   ]
  },
  {
   "cell_type": "code",
   "execution_count": 20,
   "id": "7c70b58d",
   "metadata": {},
   "outputs": [
    {
     "data": {
      "image/png": "[encoded data removed]",
      "text/plain": [
       "<Figure size 1400x500 with 2 Axes>"
      ]
     },
     "metadata": {},
     "output_type": "display_data"
    }
   ],
   "source": [
    "\n",
    "email['opened'] = email['email_id'].isin(email_opened['email_id'])\n",
    "email['clicked'] = email['email_id'].isin(clicked_email['email_id'])\n",
    "\n",
    "\n",
    "grouped_text = email.groupby('email_text')[['opened', 'clicked']].mean() * 100\n",
    "grouped_version = email.groupby('email_version')[['opened', 'clicked']].mean() * 100\n",
    "\n",
    "\n",
    "fig, axes = plt.subplots(1, 2, figsize=(14, 5))\n",
    "\n",
    "\n",
    "grouped_text.plot(kind='bar', ax=axes[0], color=['skyblue', 'orange'])\n",
    "axes[0].set_title('Open & Click Rate by Email Text Type')\n",
    "axes[0].set_ylabel('Percentage (%)')\n",
    "axes[0].set_xlabel('Email Text Type')\n",
    "axes[0].legend([\"Open Rate\", \"Click Rate\"])\n",
    "\n",
    "\n",
    "grouped_version.plot(kind='bar', ax=axes[1], color=['skyblue', 'orange'])\n",
    "axes[1].set_title('Open & Click Rate by Email Version')\n",
    "axes[1].set_xlabel('Email Version')\n",
    "axes[1].legend([\"Open Rate\", \"Click Rate\"])\n",
    "\n",
    "plt.tight_layout()\n",
    "plt.show()\n"
   ]
  },
  {
   "cell_type": "code",
   "execution_count": 21,
   "id": "a8e0722b",
   "metadata": {},
   "outputs": [
    {
     "data": {
      "image/png": "[encoded data removed]",
      "text/plain": [
       "<Figure size 1000x500 with 1 Axes>"
      ]
     },
     "metadata": {},
     "output_type": "display_data"
    }
   ],
   "source": [
    "email.groupby('weekday')[['opened', 'clicked']].mean().sort_index().plot(\n",
    "    kind='bar', figsize=(10, 5), color=['lightgreen', 'salmon'])\n",
    "plt.title('Open & Click Rate by Weekday')\n",
    "plt.ylabel('Percentage (%)')\n",
    "plt.xlabel('Weekday')\n",
    "plt.legend(['Open Rate', 'Click Rate'])\n",
    "plt.show()\n"
   ]
  },
  {
   "cell_type": "code",
   "execution_count": 22,
   "id": "fc94bfe7",
   "metadata": {},
   "outputs": [
    {
     "data": {
      "image/png": "[encoded data removed]",
      "text/plain": [
       "<Figure size 800x500 with 1 Axes>"
      ]
     },
     "metadata": {},
     "output_type": "display_data"
    }
   ],
   "source": [
    "email.groupby('user_country')[['opened', 'clicked']].mean().plot(\n",
    "    kind='bar', figsize=(8, 5), color=['mediumpurple', 'gold'])\n",
    "\n",
    "plt.title('Open & Click Rate by Country')\n",
    "plt.ylabel('Percentage (%)')\n",
    "plt.xlabel('Country')\n",
    "plt.legend(['Open Rate', 'Click Rate'])\n",
    "plt.show()\n"
   ]
  },
  {
   "cell_type": "code",
   "execution_count": 23,
   "id": "2f5fce44",
   "metadata": {},
   "outputs": [
    {
     "data": {
      "image/png": "[encoded data removed]",
      "text/plain": [
       "<Figure size 1000x500 with 1 Axes>"
      ]
     },
     "metadata": {},
     "output_type": "display_data"
    }
   ],
   "source": [
    "email.groupby('hour')[['opened', 'clicked']].mean().plot(\n",
    "    kind='line', figsize=(10, 5), marker='o')\n",
    "plt.title('Open & Click Rate by Hour of Day')\n",
    "plt.ylabel('Percentage (%)')\n",
    "plt.xlabel('Hour')\n",
    "plt.legend(['Open Rate', 'Click Rate'])\n",
    "plt.grid(True)\n",
    "plt.show()\n"
   ]
  },
  {
   "cell_type": "code",
   "execution_count": 24,
   "id": "632e6011",
   "metadata": {},
   "outputs": [],
   "source": [
    "\n",
    "email['opened'] = email['email_id'].isin(email_opened['email_id']).astype(int)\n",
    "email['clicked'] = email['email_id'].isin(clicked_email['email_id']).astype(int)\n"
   ]
  },
  {
   "cell_type": "code",
   "execution_count": 25,
   "id": "c81fba55",
   "metadata": {},
   "outputs": [
    {
     "data": {
      "text/html": [
       "<div>\n",
       "<style scoped>\n",
       "    .dataframe tbody tr th:only-of-type {\n",
       "        vertical-align: middle;\n",
       "    }\n",
       "\n",
       "    .dataframe tbody tr th {\n",
       "        vertical-align: top;\n",
       "    }\n",
       "\n",
       "    .dataframe thead th {\n",
       "        text-align: right;\n",
       "    }\n",
       "</style>\n",
       "<table border=\"1\" class=\"dataframe\">\n",
       "  <thead>\n",
       "    <tr style=\"text-align: right;\">\n",
       "      <th></th>\n",
       "      <th>email_id</th>\n",
       "      <th>email_text</th>\n",
       "      <th>email_version</th>\n",
       "      <th>hour</th>\n",
       "      <th>weekday</th>\n",
       "      <th>user_country</th>\n",
       "      <th>user_past_purchases</th>\n",
       "      <th>opened</th>\n",
       "      <th>clicked</th>\n",
       "    </tr>\n",
       "  </thead>\n",
       "  <tbody>\n",
       "    <tr>\n",
       "      <th>0</th>\n",
       "      <td>85120</td>\n",
       "      <td>short_email</td>\n",
       "      <td>personalized</td>\n",
       "      <td>2</td>\n",
       "      <td>Sunday</td>\n",
       "      <td>US</td>\n",
       "      <td>5</td>\n",
       "      <td>0</td>\n",
       "      <td>0</td>\n",
       "    </tr>\n",
       "    <tr>\n",
       "      <th>1</th>\n",
       "      <td>966622</td>\n",
       "      <td>long_email</td>\n",
       "      <td>personalized</td>\n",
       "      <td>12</td>\n",
       "      <td>Sunday</td>\n",
       "      <td>UK</td>\n",
       "      <td>2</td>\n",
       "      <td>1</td>\n",
       "      <td>1</td>\n",
       "    </tr>\n",
       "    <tr>\n",
       "      <th>2</th>\n",
       "      <td>777221</td>\n",
       "      <td>long_email</td>\n",
       "      <td>personalized</td>\n",
       "      <td>11</td>\n",
       "      <td>Wednesday</td>\n",
       "      <td>US</td>\n",
       "      <td>2</td>\n",
       "      <td>0</td>\n",
       "      <td>0</td>\n",
       "    </tr>\n",
       "    <tr>\n",
       "      <th>3</th>\n",
       "      <td>493711</td>\n",
       "      <td>short_email</td>\n",
       "      <td>generic</td>\n",
       "      <td>6</td>\n",
       "      <td>Monday</td>\n",
       "      <td>UK</td>\n",
       "      <td>1</td>\n",
       "      <td>0</td>\n",
       "      <td>0</td>\n",
       "    </tr>\n",
       "    <tr>\n",
       "      <th>4</th>\n",
       "      <td>106887</td>\n",
       "      <td>long_email</td>\n",
       "      <td>generic</td>\n",
       "      <td>14</td>\n",
       "      <td>Monday</td>\n",
       "      <td>US</td>\n",
       "      <td>6</td>\n",
       "      <td>0</td>\n",
       "      <td>0</td>\n",
       "    </tr>\n",
       "  </tbody>\n",
       "</table>\n",
       "</div>"
      ],
      "text/plain": [
       "   email_id   email_text email_version  hour    weekday user_country  \\\n",
       "0     85120  short_email  personalized     2     Sunday           US   \n",
       "1    966622   long_email  personalized    12     Sunday           UK   \n",
       "2    777221   long_email  personalized    11  Wednesday           US   \n",
       "3    493711  short_email       generic     6     Monday           UK   \n",
       "4    106887   long_email       generic    14     Monday           US   \n",
       "\n",
       "   user_past_purchases  opened  clicked  \n",
       "0                    5       0        0  \n",
       "1                    2       1        1  \n",
       "2                    2       0        0  \n",
       "3                    1       0        0  \n",
       "4                    6       0        0  "
      ]
     },
     "execution_count": 25,
     "metadata": {},
     "output_type": "execute_result"
    }
   ],
   "source": [
    "email.head()"
   ]
  },
  {
   "cell_type": "code",
   "execution_count": 26,
   "id": "df3b5af4",
   "metadata": {},
   "outputs": [
    {
     "name": "stdout",
     "output_type": "stream",
     "text": [
      "0: ES\n",
      "1: FR\n",
      "2: UK\n",
      "3: US\n"
     ]
    }
   ],
   "source": [
    "from sklearn.preprocessing import LabelEncoder\n",
    "\n",
    "\n",
    "le_country = LabelEncoder()\n",
    "le_country.fit(email['user_country'])\n",
    "\n",
    "\n",
    "for i, class_name in enumerate(le_country.classes_):\n",
    "    print(f\"{i}: {class_name}\")\n"
   ]
  },
  {
   "cell_type": "code",
   "execution_count": 27,
   "id": "3f168d9e",
   "metadata": {},
   "outputs": [],
   "source": [
    "from sklearn.preprocessing import LabelEncoder\n",
    "\n",
    "\n",
    "le = LabelEncoder()\n",
    "\n",
    "\n",
    "categorical_columns = ['email_text', 'email_version', 'weekday', 'user_country']\n",
    "\n",
    "\n",
    "for col in categorical_columns:\n",
    "    email[col] = le.fit_transform(email[col])\n",
    "\n",
    "\n",
    "\n"
   ]
  },
  {
   "cell_type": "code",
   "execution_count": 28,
   "id": "8479b410",
   "metadata": {},
   "outputs": [
    {
     "data": {
      "text/html": [
       "<div>\n",
       "<style scoped>\n",
       "    .dataframe tbody tr th:only-of-type {\n",
       "        vertical-align: middle;\n",
       "    }\n",
       "\n",
       "    .dataframe tbody tr th {\n",
       "        vertical-align: top;\n",
       "    }\n",
       "\n",
       "    .dataframe thead th {\n",
       "        text-align: right;\n",
       "    }\n",
       "</style>\n",
       "<table border=\"1\" class=\"dataframe\">\n",
       "  <thead>\n",
       "    <tr style=\"text-align: right;\">\n",
       "      <th></th>\n",
       "      <th>email_id</th>\n",
       "      <th>email_text</th>\n",
       "      <th>email_version</th>\n",
       "      <th>hour</th>\n",
       "      <th>weekday</th>\n",
       "      <th>user_country</th>\n",
       "      <th>user_past_purchases</th>\n",
       "      <th>opened</th>\n",
       "      <th>clicked</th>\n",
       "    </tr>\n",
       "  </thead>\n",
       "  <tbody>\n",
       "    <tr>\n",
       "      <th>email_id</th>\n",
       "      <td>1.000000</td>\n",
       "      <td>0.001249</td>\n",
       "      <td>-0.000241</td>\n",
       "      <td>-0.003563</td>\n",
       "      <td>0.003181</td>\n",
       "      <td>0.000223</td>\n",
       "      <td>0.002099</td>\n",
       "      <td>0.000443</td>\n",
       "      <td>-0.001198</td>\n",
       "    </tr>\n",
       "    <tr>\n",
       "      <th>email_text</th>\n",
       "      <td>0.001249</td>\n",
       "      <td>1.000000</td>\n",
       "      <td>-0.000283</td>\n",
       "      <td>-0.001611</td>\n",
       "      <td>0.000388</td>\n",
       "      <td>-0.001667</td>\n",
       "      <td>-0.003217</td>\n",
       "      <td>0.040523</td>\n",
       "      <td>0.018519</td>\n",
       "    </tr>\n",
       "    <tr>\n",
       "      <th>email_version</th>\n",
       "      <td>-0.000241</td>\n",
       "      <td>-0.000283</td>\n",
       "      <td>1.000000</td>\n",
       "      <td>-0.000827</td>\n",
       "      <td>0.005072</td>\n",
       "      <td>-0.001951</td>\n",
       "      <td>-0.001914</td>\n",
       "      <td>0.079471</td>\n",
       "      <td>0.042208</td>\n",
       "    </tr>\n",
       "    <tr>\n",
       "      <th>hour</th>\n",
       "      <td>-0.003563</td>\n",
       "      <td>-0.001611</td>\n",
       "      <td>-0.000827</td>\n",
       "      <td>1.000000</td>\n",
       "      <td>-0.000605</td>\n",
       "      <td>0.001117</td>\n",
       "      <td>0.002986</td>\n",
       "      <td>0.025972</td>\n",
       "      <td>0.011047</td>\n",
       "    </tr>\n",
       "    <tr>\n",
       "      <th>weekday</th>\n",
       "      <td>0.003181</td>\n",
       "      <td>0.000388</td>\n",
       "      <td>0.005072</td>\n",
       "      <td>-0.000605</td>\n",
       "      <td>1.000000</td>\n",
       "      <td>-0.001539</td>\n",
       "      <td>-0.002534</td>\n",
       "      <td>0.041544</td>\n",
       "      <td>0.025308</td>\n",
       "    </tr>\n",
       "    <tr>\n",
       "      <th>user_country</th>\n",
       "      <td>0.000223</td>\n",
       "      <td>-0.001667</td>\n",
       "      <td>-0.001951</td>\n",
       "      <td>0.001117</td>\n",
       "      <td>-0.001539</td>\n",
       "      <td>1.000000</td>\n",
       "      <td>-0.006096</td>\n",
       "      <td>0.093049</td>\n",
       "      <td>0.040011</td>\n",
       "    </tr>\n",
       "    <tr>\n",
       "      <th>user_past_purchases</th>\n",
       "      <td>0.002099</td>\n",
       "      <td>-0.003217</td>\n",
       "      <td>-0.001914</td>\n",
       "      <td>0.002986</td>\n",
       "      <td>-0.002534</td>\n",
       "      <td>-0.006096</td>\n",
       "      <td>1.000000</td>\n",
       "      <td>0.085934</td>\n",
       "      <td>0.105445</td>\n",
       "    </tr>\n",
       "    <tr>\n",
       "      <th>opened</th>\n",
       "      <td>0.000443</td>\n",
       "      <td>0.040523</td>\n",
       "      <td>0.079471</td>\n",
       "      <td>0.025972</td>\n",
       "      <td>0.041544</td>\n",
       "      <td>0.093049</td>\n",
       "      <td>0.085934</td>\n",
       "      <td>1.000000</td>\n",
       "      <td>0.421750</td>\n",
       "    </tr>\n",
       "    <tr>\n",
       "      <th>clicked</th>\n",
       "      <td>-0.001198</td>\n",
       "      <td>0.018519</td>\n",
       "      <td>0.042208</td>\n",
       "      <td>0.011047</td>\n",
       "      <td>0.025308</td>\n",
       "      <td>0.040011</td>\n",
       "      <td>0.105445</td>\n",
       "      <td>0.421750</td>\n",
       "      <td>1.000000</td>\n",
       "    </tr>\n",
       "  </tbody>\n",
       "</table>\n",
       "</div>"
      ],
      "text/plain": [
       "                     email_id  email_text  email_version      hour   weekday  \\\n",
       "email_id             1.000000    0.001249      -0.000241 -0.003563  0.003181   \n",
       "email_text           0.001249    1.000000      -0.000283 -0.001611  0.000388   \n",
       "email_version       -0.000241   -0.000283       1.000000 -0.000827  0.005072   \n",
       "hour                -0.003563   -0.001611      -0.000827  1.000000 -0.000605   \n",
       "weekday              0.003181    0.000388       0.005072 -0.000605  1.000000   \n",
       "user_country         0.000223   -0.001667      -0.001951  0.001117 -0.001539   \n",
       "user_past_purchases  0.002099   -0.003217      -0.001914  0.002986 -0.002534   \n",
       "opened               0.000443    0.040523       0.079471  0.025972  0.041544   \n",
       "clicked             -0.001198    0.018519       0.042208  0.011047  0.025308   \n",
       "\n",
       "                     user_country  user_past_purchases    opened   clicked  \n",
       "email_id                 0.000223             0.002099  0.000443 -0.001198  \n",
       "email_text              -0.001667            -0.003217  0.040523  0.018519  \n",
       "email_version           -0.001951            -0.001914  0.079471  0.042208  \n",
       "hour                     0.001117             0.002986  0.025972  0.011047  \n",
       "weekday                 -0.001539            -0.002534  0.041544  0.025308  \n",
       "user_country             1.000000            -0.006096  0.093049  0.040011  \n",
       "user_past_purchases     -0.006096             1.000000  0.085934  0.105445  \n",
       "opened                   0.093049             0.085934  1.000000  0.421750  \n",
       "clicked                  0.040011             0.105445  0.421750  1.000000  "
      ]
     },
     "execution_count": 28,
     "metadata": {},
     "output_type": "execute_result"
    }
   ],
   "source": [
    "email.corr()"
   ]
  },
  {
   "cell_type": "code",
   "execution_count": 29,
   "id": "03127e98",
   "metadata": {},
   "outputs": [
    {
     "data": {
      "text/plain": [
       "email_id              -0.001198\n",
       "email_text             0.018519\n",
       "email_version          0.042208\n",
       "hour                   0.011047\n",
       "weekday                0.025308\n",
       "user_country           0.040011\n",
       "user_past_purchases    0.105445\n",
       "opened                 0.421750\n",
       "clicked                1.000000\n",
       "Name: clicked, dtype: float64"
      ]
     },
     "execution_count": 29,
     "metadata": {},
     "output_type": "execute_result"
    }
   ],
   "source": [
    "email.corr()['clicked']\n"
   ]
  },
  {
   "cell_type": "code",
   "execution_count": 30,
   "id": "f79afb38",
   "metadata": {},
   "outputs": [
    {
     "data": {
      "text/plain": [
       "(100000, 9)"
      ]
     },
     "execution_count": 30,
     "metadata": {},
     "output_type": "execute_result"
    }
   ],
   "source": [
    "email.shape"
   ]
  },
  {
   "cell_type": "code",
   "execution_count": 31,
   "id": "ff28b444",
   "metadata": {},
   "outputs": [
    {
     "data": {
      "text/plain": [
       "email_id               0\n",
       "email_text             0\n",
       "email_version          0\n",
       "hour                   0\n",
       "weekday                0\n",
       "user_country           0\n",
       "user_past_purchases    0\n",
       "opened                 0\n",
       "clicked                0\n",
       "dtype: int64"
      ]
     },
     "execution_count": 31,
     "metadata": {},
     "output_type": "execute_result"
    }
   ],
   "source": [
    "email.isnull().sum()"
   ]
  },
  {
   "cell_type": "code",
   "execution_count": 32,
   "id": "7e806928",
   "metadata": {},
   "outputs": [
    {
     "data": {
      "text/plain": [
       "clicked\n",
       "0    0.97881\n",
       "1    0.02119\n",
       "Name: proportion, dtype: float64"
      ]
     },
     "execution_count": 32,
     "metadata": {},
     "output_type": "execute_result"
    }
   ],
   "source": [
    "email['clicked'].value_counts(normalize=True)"
   ]
  },
  {
   "cell_type": "code",
   "execution_count": 33,
   "id": "386d7d46",
   "metadata": {},
   "outputs": [
    {
     "data": {
      "text/plain": [
       "email_id               int64\n",
       "email_text             int32\n",
       "email_version          int32\n",
       "hour                   int64\n",
       "weekday                int32\n",
       "user_country           int32\n",
       "user_past_purchases    int64\n",
       "opened                 int32\n",
       "clicked                int32\n",
       "dtype: object"
      ]
     },
     "execution_count": 33,
     "metadata": {},
     "output_type": "execute_result"
    }
   ],
   "source": [
    "email.dtypes"
   ]
  },
  {
   "cell_type": "code",
   "execution_count": 34,
   "id": "ec1a200b",
   "metadata": {},
   "outputs": [
    {
     "name": "stdout",
     "output_type": "stream",
     "text": [
      "Train shape: (80000, 8)\n",
      "Test shape: (20000, 8)\n"
     ]
    }
   ],
   "source": [
    "from sklearn.model_selection import train_test_split\n",
    "from sklearn.preprocessing import OneHotEncoder\n",
    "from sklearn.compose import ColumnTransformer\n",
    "\n",
    "\n",
    " \n",
    "\n",
    "\n",
    "X = email.drop(columns=['clicked'])  \n",
    "y = email['clicked']                  \n",
    "\n",
    "\n",
    "categorical_cols = ['email_text', 'email_version', 'weekday', 'user_country']\n",
    "numerical_cols = ['hour', 'user_past_purchases', 'opened'] \n",
    "\n",
    "\n",
    "X_train, X_test, y_train, y_test = train_test_split(\n",
    "    X, y, test_size=0.2, stratify=y, random_state=42\n",
    ")\n",
    "\n",
    "\n",
    "preprocessor = ColumnTransformer(\n",
    "    transformers=[\n",
    "        ('cat', OneHotEncoder(handle_unknown='ignore'), categorical_cols)\n",
    "    ],\n",
    "    remainder='passthrough' \n",
    ")\n",
    "print(\"Train shape:\", X_train.shape)\n",
    "print(\"Test shape:\", X_test.shape)\n"
   ]
  },
  {
   "cell_type": "code",
   "execution_count": 35,
   "id": "681cf163",
   "metadata": {},
   "outputs": [
    {
     "name": "stdout",
     "output_type": "stream",
     "text": [
      "              precision    recall  f1-score   support\n",
      "\n",
      "           0       0.98      1.00      0.99     19576\n",
      "           1       0.23      0.06      0.10       424\n",
      "\n",
      "    accuracy                           0.98     20000\n",
      "   macro avg       0.60      0.53      0.54     20000\n",
      "weighted avg       0.96      0.98      0.97     20000\n",
      "\n",
      " ROC AUC Score: 0.9538994369308587\n",
      " PR AUC Score: 0.24395529854969747\n"
     ]
    }
   ],
   "source": [
    "from sklearn.ensemble import RandomForestClassifier\n",
    "from sklearn.pipeline import Pipeline\n",
    "from sklearn.metrics import classification_report, roc_auc_score, average_precision_score\n",
    "\n",
    "\n",
    "clf = Pipeline(steps=[\n",
    "    ('preprocessor', preprocessor),\n",
    "    ('classifier', RandomForestClassifier(class_weight='balanced', random_state=42))\n",
    "])\n",
    "\n",
    "\n",
    "clf.fit(X_train, y_train)\n",
    "\n",
    "y_pred = clf.predict(X_test)\n",
    "y_prob = clf.predict_proba(X_test)[:, 1] \n",
    "\n",
    "\n",
    "print(classification_report(y_test, y_pred))\n",
    "\n",
    "print(\" ROC AUC Score:\", roc_auc_score(y_test, y_prob))\n",
    "print(\" PR AUC Score:\", average_precision_score(y_test, y_prob))\n"
   ]
  },
  {
   "cell_type": "code",
   "execution_count": 36,
   "id": "9abea0da",
   "metadata": {},
   "outputs": [
    {
     "name": "stdout",
     "output_type": "stream",
     "text": [
      "[[1. 0.]\n",
      " [1. 0.]\n",
      " [1. 0.]\n",
      " ...\n",
      " [1. 0.]\n",
      " [1. 0.]\n",
      " [1. 0.]]\n"
     ]
    }
   ],
   "source": [
    "probs = clf.predict_proba(X_test)\n",
    "print(probs)\n"
   ]
  },
  {
   "cell_type": "code",
   "execution_count": 37,
   "id": "c7bfe9d6",
   "metadata": {},
   "outputs": [
    {
     "name": "stdout",
     "output_type": "stream",
     "text": [
      "Best threshold: 0.15\n",
      "Best Precision: 0.2615546218487395\n",
      "Best Recall: 0.5872641509433962\n",
      "Best F1 Score: 0.36191817827254125\n",
      " Re-evaluated Classification Report:\n",
      "              precision    recall  f1-score   support\n",
      "\n",
      "           0       0.99      0.96      0.98     19576\n",
      "           1       0.26      0.59      0.36       424\n",
      "\n",
      "    accuracy                           0.96     20000\n",
      "   macro avg       0.63      0.78      0.67     20000\n",
      "weighted avg       0.98      0.96      0.96     20000\n",
      "\n"
     ]
    }
   ],
   "source": [
    "import numpy as np\n",
    "from sklearn.metrics import precision_recall_curve\n",
    "\n",
    "\n",
    "precisions, recalls, thresholds = precision_recall_curve(y_test, y_prob)\n",
    "\n",
    "\n",
    "f1_scores = 2 * (precisions * recalls) / (precisions + recalls + 1e-6)\n",
    "best_index = np.argmax(f1_scores)\n",
    "best_threshold = thresholds[best_index]\n",
    "\n",
    "print(\"Best threshold:\", best_threshold)\n",
    "print(\"Best Precision:\", precisions[best_index])\n",
    "print(\"Best Recall:\", recalls[best_index])\n",
    "print(\"Best F1 Score:\", f1_scores[best_index])\n",
    "\n",
    "\n",
    "y_pred_new = (y_prob >= best_threshold).astype(int)\n",
    "\n",
    "print(\" Re-evaluated Classification Report:\")\n",
    "print(classification_report(y_test, y_pred_new))\n"
   ]
  },
  {
   "cell_type": "code",
   "execution_count": 40,
   "id": "6b79ddbc",
   "metadata": {},
   "outputs": [],
   "source": [
    "def predict_click(email_text, email_version, hour, weekday, user_country, user_past_purchases, opened):\n",
    "    \n",
    "    input_data = pd.DataFrame([{\n",
    "        'email_text': email_text,\n",
    "        'email_version': email_version,\n",
    "        'hour': hour,\n",
    "        'weekday': weekday,\n",
    "        'user_country': user_country,\n",
    "        'user_past_purchases': user_past_purchases,\n",
    "        'opened': opened\n",
    "    }], columns=X.columns)  \n",
    "\n",
    "    try:\n",
    "\n",
    "        prob_clicked = clf.predict_proba(input_data)[:, 1]\n",
    "        threshold = 0.15\n",
    "        click_prediction = 'Yes' if prob_clicked[0] >= threshold else 'No'\n",
    "        return prob_clicked[0], click_prediction\n",
    "    except Exception as e:\n",
    "        print(\"Prediction failed:\", e)\n",
    "        return None, None\n",
    "\n",
    "        \n",
    "\n",
    "\n",
    "\n",
    "\n",
    "\n"
   ]
  },
  {
   "cell_type": "code",
   "execution_count": 41,
   "id": "be2ffe9c",
   "metadata": {},
   "outputs": [
    {
     "name": "stdout",
     "output_type": "stream",
     "text": [
      "Predicted Probability of Click: 0.30\n",
      "Will the user click? Yes\n"
     ]
    }
   ],
   "source": [
    "probability, click_prediction = predict_click(\n",
    "    email_text='Discount Offer',\n",
    "    email_version='Version A',\n",
    "    hour=14,\n",
    "    weekday='Monday',\n",
    "    user_country='US',\n",
    "    user_past_purchases=5,\n",
    "    opened=1\n",
    ")\n",
    "\n",
    "if probability is not None:\n",
    "    print(f\"Predicted Probability of Click: {probability:.2f}\")\n",
    "    print(f\"Will the user click? {click_prediction}\")\n",
    "else:\n",
    "    print(\"Prediction failed. Please check logs.\")\n",
    "\n"
   ]
  },
  {
   "cell_type": "code",
   "execution_count": null,
   "id": "cfc2fd8b",
   "metadata": {},
   "outputs": [
    {
     "name": "stdout",
     "output_type": "stream",
     "text": [
      "Pipeline(steps=[('preprocessor',\n",
      "                 ColumnTransformer(remainder='passthrough',\n",
      "                                   transformers=[('cat',\n",
      "                                                  OneHotEncoder(handle_unknown='ignore'),\n",
      "                                                  ['email_text',\n",
      "                                                   'email_version', 'weekday',\n",
      "                                                   'user_country'])])),\n",
      "                ('classifier',\n",
      "                 RandomForestClassifier(class_weight='balanced',\n",
      "                                        random_state=42))])\n"
     ]
    }
   ],
   "source": [
    "print(clf)\n",
    "\n"
   ]
  },
  {
   "cell_type": "code",
   "execution_count": null,
   "id": "af9f5d37",
   "metadata": {},
   "outputs": [],
   "source": []
  },
  {
   "cell_type": "code",
   "execution_count": 42,
   "id": "182c177e",
   "metadata": {},
   "outputs": [
    {
     "data": {
      "text/html": [
       "<div>\n",
       "<style scoped>\n",
       "    .dataframe tbody tr th:only-of-type {\n",
       "        vertical-align: middle;\n",
       "    }\n",
       "\n",
       "    .dataframe tbody tr th {\n",
       "        vertical-align: top;\n",
       "    }\n",
       "\n",
       "    .dataframe thead th {\n",
       "        text-align: right;\n",
       "    }\n",
       "</style>\n",
       "<table border=\"1\" class=\"dataframe\">\n",
       "  <thead>\n",
       "    <tr style=\"text-align: right;\">\n",
       "      <th></th>\n",
       "      <th>email_id</th>\n",
       "      <th>email_text</th>\n",
       "      <th>email_version</th>\n",
       "      <th>hour</th>\n",
       "      <th>weekday</th>\n",
       "      <th>user_country</th>\n",
       "      <th>user_past_purchases</th>\n",
       "      <th>opened</th>\n",
       "      <th>clicked</th>\n",
       "    </tr>\n",
       "  </thead>\n",
       "  <tbody>\n",
       "    <tr>\n",
       "      <th>1</th>\n",
       "      <td>966622</td>\n",
       "      <td>0</td>\n",
       "      <td>1</td>\n",
       "      <td>12</td>\n",
       "      <td>3</td>\n",
       "      <td>2</td>\n",
       "      <td>2</td>\n",
       "      <td>1</td>\n",
       "      <td>1</td>\n",
       "    </tr>\n",
       "    <tr>\n",
       "      <th>70</th>\n",
       "      <td>849</td>\n",
       "      <td>1</td>\n",
       "      <td>0</td>\n",
       "      <td>16</td>\n",
       "      <td>5</td>\n",
       "      <td>3</td>\n",
       "      <td>5</td>\n",
       "      <td>1</td>\n",
       "      <td>1</td>\n",
       "    </tr>\n",
       "    <tr>\n",
       "      <th>115</th>\n",
       "      <td>721625</td>\n",
       "      <td>1</td>\n",
       "      <td>1</td>\n",
       "      <td>6</td>\n",
       "      <td>4</td>\n",
       "      <td>3</td>\n",
       "      <td>7</td>\n",
       "      <td>1</td>\n",
       "      <td>1</td>\n",
       "    </tr>\n",
       "    <tr>\n",
       "      <th>145</th>\n",
       "      <td>477022</td>\n",
       "      <td>0</td>\n",
       "      <td>0</td>\n",
       "      <td>7</td>\n",
       "      <td>4</td>\n",
       "      <td>2</td>\n",
       "      <td>4</td>\n",
       "      <td>1</td>\n",
       "      <td>1</td>\n",
       "    </tr>\n",
       "    <tr>\n",
       "      <th>156</th>\n",
       "      <td>135729</td>\n",
       "      <td>0</td>\n",
       "      <td>1</td>\n",
       "      <td>12</td>\n",
       "      <td>1</td>\n",
       "      <td>3</td>\n",
       "      <td>1</td>\n",
       "      <td>1</td>\n",
       "      <td>1</td>\n",
       "    </tr>\n",
       "    <tr>\n",
       "      <th>...</th>\n",
       "      <td>...</td>\n",
       "      <td>...</td>\n",
       "      <td>...</td>\n",
       "      <td>...</td>\n",
       "      <td>...</td>\n",
       "      <td>...</td>\n",
       "      <td>...</td>\n",
       "      <td>...</td>\n",
       "      <td>...</td>\n",
       "    </tr>\n",
       "    <tr>\n",
       "      <th>99826</th>\n",
       "      <td>854874</td>\n",
       "      <td>1</td>\n",
       "      <td>1</td>\n",
       "      <td>10</td>\n",
       "      <td>3</td>\n",
       "      <td>3</td>\n",
       "      <td>6</td>\n",
       "      <td>1</td>\n",
       "      <td>1</td>\n",
       "    </tr>\n",
       "    <tr>\n",
       "      <th>99838</th>\n",
       "      <td>46500</td>\n",
       "      <td>1</td>\n",
       "      <td>0</td>\n",
       "      <td>15</td>\n",
       "      <td>5</td>\n",
       "      <td>3</td>\n",
       "      <td>9</td>\n",
       "      <td>1</td>\n",
       "      <td>1</td>\n",
       "    </tr>\n",
       "    <tr>\n",
       "      <th>99928</th>\n",
       "      <td>683747</td>\n",
       "      <td>1</td>\n",
       "      <td>1</td>\n",
       "      <td>8</td>\n",
       "      <td>2</td>\n",
       "      <td>3</td>\n",
       "      <td>8</td>\n",
       "      <td>1</td>\n",
       "      <td>1</td>\n",
       "    </tr>\n",
       "    <tr>\n",
       "      <th>99946</th>\n",
       "      <td>893770</td>\n",
       "      <td>1</td>\n",
       "      <td>1</td>\n",
       "      <td>3</td>\n",
       "      <td>1</td>\n",
       "      <td>3</td>\n",
       "      <td>11</td>\n",
       "      <td>1</td>\n",
       "      <td>1</td>\n",
       "    </tr>\n",
       "    <tr>\n",
       "      <th>99999</th>\n",
       "      <td>348333</td>\n",
       "      <td>0</td>\n",
       "      <td>1</td>\n",
       "      <td>8</td>\n",
       "      <td>3</td>\n",
       "      <td>2</td>\n",
       "      <td>1</td>\n",
       "      <td>1</td>\n",
       "      <td>1</td>\n",
       "    </tr>\n",
       "  </tbody>\n",
       "</table>\n",
       "<p>2119 rows × 9 columns</p>\n",
       "</div>"
      ],
      "text/plain": [
       "       email_id  email_text  email_version  hour  weekday  user_country  \\\n",
       "1        966622           0              1    12        3             2   \n",
       "70          849           1              0    16        5             3   \n",
       "115      721625           1              1     6        4             3   \n",
       "145      477022           0              0     7        4             2   \n",
       "156      135729           0              1    12        1             3   \n",
       "...         ...         ...            ...   ...      ...           ...   \n",
       "99826    854874           1              1    10        3             3   \n",
       "99838     46500           1              0    15        5             3   \n",
       "99928    683747           1              1     8        2             3   \n",
       "99946    893770           1              1     3        1             3   \n",
       "99999    348333           0              1     8        3             2   \n",
       "\n",
       "       user_past_purchases  opened  clicked  \n",
       "1                        2       1        1  \n",
       "70                       5       1        1  \n",
       "115                      7       1        1  \n",
       "145                      4       1        1  \n",
       "156                      1       1        1  \n",
       "...                    ...     ...      ...  \n",
       "99826                    6       1        1  \n",
       "99838                    9       1        1  \n",
       "99928                    8       1        1  \n",
       "99946                   11       1        1  \n",
       "99999                    1       1        1  \n",
       "\n",
       "[2119 rows x 9 columns]"
      ]
     },
     "execution_count": 42,
     "metadata": {},
     "output_type": "execute_result"
    }
   ],
   "source": [
    "clickers = email[email['clicked'] == 1]\n",
    "clickers"
   ]
  },
  {
   "cell_type": "code",
   "execution_count": 43,
   "id": "6830d676",
   "metadata": {},
   "outputs": [
    {
     "data": {
      "text/plain": [
       "email_text\n",
       "1    0.56017\n",
       "0    0.43983\n",
       "Name: proportion, dtype: float64"
      ]
     },
     "execution_count": 43,
     "metadata": {},
     "output_type": "execute_result"
    }
   ],
   "source": [
    "clickers['email_text'].value_counts(normalize=True)\n"
   ]
  },
  {
   "cell_type": "code",
   "execution_count": 44,
   "id": "c1a6ea78",
   "metadata": {},
   "outputs": [
    {
     "data": {
      "text/plain": [
       "email_version\n",
       "1    0.64134\n",
       "0    0.35866\n",
       "Name: proportion, dtype: float64"
      ]
     },
     "execution_count": 44,
     "metadata": {},
     "output_type": "execute_result"
    }
   ],
   "source": [
    "clickers['email_version'].value_counts(normalize=True)\n"
   ]
  },
  {
   "cell_type": "code",
   "execution_count": 45,
   "id": "cc328d85",
   "metadata": {},
   "outputs": [
    {
     "data": {
      "text/plain": [
       "weekday\n",
       "6    0.183577\n",
       "5    0.166116\n",
       "4    0.164700\n",
       "1    0.155262\n",
       "2    0.122699\n",
       "3    0.113733\n",
       "0    0.093912\n",
       "Name: proportion, dtype: float64"
      ]
     },
     "execution_count": 45,
     "metadata": {},
     "output_type": "execute_result"
    }
   ],
   "source": [
    "clickers['weekday'].value_counts(normalize=True)\n"
   ]
  },
  {
   "cell_type": "code",
   "execution_count": 46,
   "id": "4c58b866",
   "metadata": {},
   "outputs": [
    {
     "data": {
      "text/plain": [
       "<Axes: title={'center': 'Click Distribution by Hour'}, xlabel='hour'>"
      ]
     },
     "execution_count": 46,
     "metadata": {},
     "output_type": "execute_result"
    },
    {
     "data": {
      "image/png": "[encoded data removed]",
      "text/plain": [
       "<Figure size 640x480 with 1 Axes>"
      ]
     },
     "metadata": {},
     "output_type": "display_data"
    }
   ],
   "source": [
    "clickers['hour'].value_counts().sort_index().plot(kind='bar', title='Click Distribution by Hour')\n"
   ]
  },
  {
   "cell_type": "code",
   "execution_count": 47,
   "id": "c899666e",
   "metadata": {},
   "outputs": [
    {
     "data": {
      "text/plain": [
       "user_country\n",
       "3    0.690892\n",
       "2    0.232185\n",
       "0    0.039169\n",
       "1    0.037754\n",
       "Name: proportion, dtype: float64"
      ]
     },
     "execution_count": 47,
     "metadata": {},
     "output_type": "execute_result"
    }
   ],
   "source": [
    "clickers['user_country'].value_counts(normalize=True)\n"
   ]
  },
  {
   "cell_type": "code",
   "execution_count": 48,
   "id": "74e299c8",
   "metadata": {},
   "outputs": [
    {
     "data": {
      "text/plain": [
       "count    2119.000000\n",
       "mean        6.168948\n",
       "std         3.601982\n",
       "min         0.000000\n",
       "25%         3.000000\n",
       "50%         6.000000\n",
       "75%         8.000000\n",
       "max        22.000000\n",
       "Name: user_past_purchases, dtype: float64"
      ]
     },
     "execution_count": 48,
     "metadata": {},
     "output_type": "execute_result"
    }
   ],
   "source": [
    "clickers['user_past_purchases'].describe()\n"
   ]
  },
  {
   "cell_type": "code",
   "execution_count": null,
   "id": "59539d90",
   "metadata": {},
   "outputs": [],
   "source": []
  },
  {
   "cell_type": "code",
   "execution_count": null,
   "id": "b17e9f65",
   "metadata": {},
   "outputs": [],
   "source": []
  }
 ],
 "metadata": {
  "kernelspec": {
   "display_name": "base",
   "language": "python",
   "name": "python3"
  },
  "language_info": {
   "codemirror_mode": {
    "name": "ipython",
    "version": 3
   },
   "file_extension": ".py",
   "mimetype": "text/x-python",
   "name": "python",
   "nbconvert_exporter": "python",
   "pygments_lexer": "ipython3",
   "version": "3.10.14"
  }
 },
 "nbformat": 4,
 "nbformat_minor": 5
}
